{
  "nbformat": 4,
  "nbformat_minor": 0,
  "metadata": {
    "colab": {
      "provenance": [],
      "authorship_tag": "ABX9TyOeyZ/noGlxxVMFoxBBNDwa",
      "include_colab_link": true
    },
    "kernelspec": {
      "name": "python3",
      "display_name": "Python 3"
    },
    "language_info": {
      "name": "python"
    }
  },
  "cells": [
    {
      "cell_type": "markdown",
      "metadata": {
        "id": "view-in-github",
        "colab_type": "text"
      },
      "source": [
        "<a href=\"https://colab.research.google.com/github/Hassan7838/text-based-emotion-recognition/blob/main/text-based-emotion-recognition.ipynb\" target=\"_parent\"><img src=\"https://colab.research.google.com/assets/colab-badge.svg\" alt=\"Open In Colab\"/></a>"
      ]
    },
    {
      "cell_type": "code",
      "execution_count": null,
      "metadata": {
        "id": "OP1Mhc7RuQGk"
      },
      "outputs": [],
      "source": [
        "# Text-Based Emotion Recognition Using NLP and Deep Learning\n",
        "\n",
        "# Essential Libraries\n",
        "import numpy as np\n",
        "import pandas as pd\n",
        "import matplotlib.pyplot as plt\n",
        "import seaborn as sns\n",
        "from sklearn.model_selection import train_test_split\n",
        "from sklearn.metrics import classification_report, confusion_matrix\n",
        "from sklearn.preprocessing import LabelEncoder\n",
        "\n",
        "# PyTorch and Hugging Face Transformers\n",
        "import torch\n",
        "import torch.nn as nn\n",
        "from torch.utils.data import DataLoader, TensorDataset\n",
        "from torch.optim import AdamW\n",
        "from transformers import AutoTokenizer, AutoModelForSequenceClassification"
      ]
    },
    {
      "cell_type": "code",
      "source": [
        "# Set random seeds for reproducibility\n",
        "np.random.seed(42)\n",
        "torch.manual_seed(42)\n",
        "if torch.cuda.is_available():\n",
        "    torch.cuda.manual_seed_all(42)"
      ],
      "metadata": {
        "id": "tblEHhXD3vCh"
      },
      "execution_count": null,
      "outputs": []
    },
    {
      "cell_type": "code",
      "source": [
        "# Upload Dataset\n",
        "from google.colab import files\n",
        "uploaded = files.upload()"
      ],
      "metadata": {
        "colab": {
          "base_uri": "https://localhost:8080/",
          "height": 73
        },
        "id": "JGzBSy3X3yWV",
        "outputId": "f3eba007-305e-4d49-cbfc-5167c68806aa"
      },
      "execution_count": null,
      "outputs": [
        {
          "output_type": "display_data",
          "data": {
            "text/plain": [
              "<IPython.core.display.HTML object>"
            ],
            "text/html": [
              "\n",
              "     <input type=\"file\" id=\"files-f713464a-c4d8-4549-a152-1b9708f75a30\" name=\"files[]\" multiple disabled\n",
              "        style=\"border:none\" />\n",
              "     <output id=\"result-f713464a-c4d8-4549-a152-1b9708f75a30\">\n",
              "      Upload widget is only available when the cell has been executed in the\n",
              "      current browser session. Please rerun this cell to enable.\n",
              "      </output>\n",
              "      <script>// Copyright 2017 Google LLC\n",
              "//\n",
              "// Licensed under the Apache License, Version 2.0 (the \"License\");\n",
              "// you may not use this file except in compliance with the License.\n",
              "// You may obtain a copy of the License at\n",
              "//\n",
              "//      http://www.apache.org/licenses/LICENSE-2.0\n",
              "//\n",
              "// Unless required by applicable law or agreed to in writing, software\n",
              "// distributed under the License is distributed on an \"AS IS\" BASIS,\n",
              "// WITHOUT WARRANTIES OR CONDITIONS OF ANY KIND, either express or implied.\n",
              "// See the License for the specific language governing permissions and\n",
              "// limitations under the License.\n",
              "\n",
              "/**\n",
              " * @fileoverview Helpers for google.colab Python module.\n",
              " */\n",
              "(function(scope) {\n",
              "function span(text, styleAttributes = {}) {\n",
              "  const element = document.createElement('span');\n",
              "  element.textContent = text;\n",
              "  for (const key of Object.keys(styleAttributes)) {\n",
              "    element.style[key] = styleAttributes[key];\n",
              "  }\n",
              "  return element;\n",
              "}\n",
              "\n",
              "// Max number of bytes which will be uploaded at a time.\n",
              "const MAX_PAYLOAD_SIZE = 100 * 1024;\n",
              "\n",
              "function _uploadFiles(inputId, outputId) {\n",
              "  const steps = uploadFilesStep(inputId, outputId);\n",
              "  const outputElement = document.getElementById(outputId);\n",
              "  // Cache steps on the outputElement to make it available for the next call\n",
              "  // to uploadFilesContinue from Python.\n",
              "  outputElement.steps = steps;\n",
              "\n",
              "  return _uploadFilesContinue(outputId);\n",
              "}\n",
              "\n",
              "// This is roughly an async generator (not supported in the browser yet),\n",
              "// where there are multiple asynchronous steps and the Python side is going\n",
              "// to poll for completion of each step.\n",
              "// This uses a Promise to block the python side on completion of each step,\n",
              "// then passes the result of the previous step as the input to the next step.\n",
              "function _uploadFilesContinue(outputId) {\n",
              "  const outputElement = document.getElementById(outputId);\n",
              "  const steps = outputElement.steps;\n",
              "\n",
              "  const next = steps.next(outputElement.lastPromiseValue);\n",
              "  return Promise.resolve(next.value.promise).then((value) => {\n",
              "    // Cache the last promise value to make it available to the next\n",
              "    // step of the generator.\n",
              "    outputElement.lastPromiseValue = value;\n",
              "    return next.value.response;\n",
              "  });\n",
              "}\n",
              "\n",
              "/**\n",
              " * Generator function which is called between each async step of the upload\n",
              " * process.\n",
              " * @param {string} inputId Element ID of the input file picker element.\n",
              " * @param {string} outputId Element ID of the output display.\n",
              " * @return {!Iterable<!Object>} Iterable of next steps.\n",
              " */\n",
              "function* uploadFilesStep(inputId, outputId) {\n",
              "  const inputElement = document.getElementById(inputId);\n",
              "  inputElement.disabled = false;\n",
              "\n",
              "  const outputElement = document.getElementById(outputId);\n",
              "  outputElement.innerHTML = '';\n",
              "\n",
              "  const pickedPromise = new Promise((resolve) => {\n",
              "    inputElement.addEventListener('change', (e) => {\n",
              "      resolve(e.target.files);\n",
              "    });\n",
              "  });\n",
              "\n",
              "  const cancel = document.createElement('button');\n",
              "  inputElement.parentElement.appendChild(cancel);\n",
              "  cancel.textContent = 'Cancel upload';\n",
              "  const cancelPromise = new Promise((resolve) => {\n",
              "    cancel.onclick = () => {\n",
              "      resolve(null);\n",
              "    };\n",
              "  });\n",
              "\n",
              "  // Wait for the user to pick the files.\n",
              "  const files = yield {\n",
              "    promise: Promise.race([pickedPromise, cancelPromise]),\n",
              "    response: {\n",
              "      action: 'starting',\n",
              "    }\n",
              "  };\n",
              "\n",
              "  cancel.remove();\n",
              "\n",
              "  // Disable the input element since further picks are not allowed.\n",
              "  inputElement.disabled = true;\n",
              "\n",
              "  if (!files) {\n",
              "    return {\n",
              "      response: {\n",
              "        action: 'complete',\n",
              "      }\n",
              "    };\n",
              "  }\n",
              "\n",
              "  for (const file of files) {\n",
              "    const li = document.createElement('li');\n",
              "    li.append(span(file.name, {fontWeight: 'bold'}));\n",
              "    li.append(span(\n",
              "        `(${file.type || 'n/a'}) - ${file.size} bytes, ` +\n",
              "        `last modified: ${\n",
              "            file.lastModifiedDate ? file.lastModifiedDate.toLocaleDateString() :\n",
              "                                    'n/a'} - `));\n",
              "    const percent = span('0% done');\n",
              "    li.appendChild(percent);\n",
              "\n",
              "    outputElement.appendChild(li);\n",
              "\n",
              "    const fileDataPromise = new Promise((resolve) => {\n",
              "      const reader = new FileReader();\n",
              "      reader.onload = (e) => {\n",
              "        resolve(e.target.result);\n",
              "      };\n",
              "      reader.readAsArrayBuffer(file);\n",
              "    });\n",
              "    // Wait for the data to be ready.\n",
              "    let fileData = yield {\n",
              "      promise: fileDataPromise,\n",
              "      response: {\n",
              "        action: 'continue',\n",
              "      }\n",
              "    };\n",
              "\n",
              "    // Use a chunked sending to avoid message size limits. See b/62115660.\n",
              "    let position = 0;\n",
              "    do {\n",
              "      const length = Math.min(fileData.byteLength - position, MAX_PAYLOAD_SIZE);\n",
              "      const chunk = new Uint8Array(fileData, position, length);\n",
              "      position += length;\n",
              "\n",
              "      const base64 = btoa(String.fromCharCode.apply(null, chunk));\n",
              "      yield {\n",
              "        response: {\n",
              "          action: 'append',\n",
              "          file: file.name,\n",
              "          data: base64,\n",
              "        },\n",
              "      };\n",
              "\n",
              "      let percentDone = fileData.byteLength === 0 ?\n",
              "          100 :\n",
              "          Math.round((position / fileData.byteLength) * 100);\n",
              "      percent.textContent = `${percentDone}% done`;\n",
              "\n",
              "    } while (position < fileData.byteLength);\n",
              "  }\n",
              "\n",
              "  // All done.\n",
              "  yield {\n",
              "    response: {\n",
              "      action: 'complete',\n",
              "    }\n",
              "  };\n",
              "}\n",
              "\n",
              "scope.google = scope.google || {};\n",
              "scope.google.colab = scope.google.colab || {};\n",
              "scope.google.colab._files = {\n",
              "  _uploadFiles,\n",
              "  _uploadFilesContinue,\n",
              "};\n",
              "})(self);\n",
              "</script> "
            ]
          },
          "metadata": {}
        },
        {
          "output_type": "stream",
          "name": "stdout",
          "text": [
            "Saving Emotions.csv to Emotions (1).csv\n"
          ]
        }
      ]
    },
    {
      "cell_type": "code",
      "source": [
        "# Load and Explore Dataset\n",
        "df = pd.read_csv('Emotions.csv', sep=\";\", header=None, names=[\"text\", \"emotion\"])\n",
        "print(\"Dataset Shape:\", df.shape)\n",
        "print(\"\\nOriginal Label Distribution:\\n\", df['emotion'].value_counts(), sep=\"\")\n",
        "print(df.head(10))\n",
        "# data is already cleaned so there is no need of cleaning it"
      ],
      "metadata": {
        "colab": {
          "base_uri": "https://localhost:8080/"
        },
        "id": "63eUo4oX3zLV",
        "outputId": "0c567ff2-8060-46e7-d249-0f849a481104"
      },
      "execution_count": null,
      "outputs": [
        {
          "output_type": "stream",
          "name": "stdout",
          "text": [
            "Dataset Shape: (2000, 2)\n",
            "\n",
            "Original Label Distribution:\n",
            "emotion\n",
            "joy         695\n",
            "sadness     581\n",
            "anger       275\n",
            "fear        224\n",
            "love        159\n",
            "surprise     66\n",
            "Name: count, dtype: int64\n",
            "                                                text  emotion\n",
            "0  im feeling rather rotten so im not very ambiti...  sadness\n",
            "1          im updating my blog because i feel shitty  sadness\n",
            "2  i never make her separate from me because i do...  sadness\n",
            "3  i left with my bouquet of red and yellow tulip...      joy\n",
            "4    i was feeling a little vain when i did this one  sadness\n",
            "5  i cant walk into a shop anywhere where i do no...     fear\n",
            "6   i felt anger when at the end of a telephone call    anger\n",
            "7  i explain why i clung to a relationship with a...      joy\n",
            "8  i like to have the same breathless feeling as ...      joy\n",
            "9  i jest i feel grumpy tired and pre menstrual w...    anger\n"
          ]
        }
      ]
    },
    {
      "cell_type": "code",
      "source": [
        "# Encode Labels\n",
        "label_encoder = LabelEncoder()\n",
        "df['encoded_label'] = label_encoder.fit_transform(df['emotion'])\n",
        "num_classes = len(label_encoder.classes_)\n",
        "print(f\"\\nEncoded Classes: {list(zip(label_encoder.classes_, range(num_classes)))}\")"
      ],
      "metadata": {
        "colab": {
          "base_uri": "https://localhost:8080/"
        },
        "id": "5-gq9IIq3zPe",
        "outputId": "447bbad9-5b76-4d43-f212-4bccf3e0f47e"
      },
      "execution_count": null,
      "outputs": [
        {
          "output_type": "stream",
          "name": "stdout",
          "text": [
            "\n",
            "Encoded Classes: [('anger', 0), ('fear', 1), ('joy', 2), ('love', 3), ('sadness', 4), ('surprise', 5)]\n"
          ]
        }
      ]
    },
    {
      "cell_type": "code",
      "source": [
        "# Train-Test Split\n",
        "X_train, X_test, y_train, y_test = train_test_split(\n",
        "    df['text'], df['encoded_label'],\n",
        "    test_size=0.3, random_state=42, stratify=df['encoded_label'])"
      ],
      "metadata": {
        "id": "SFu0lh2e3zSI"
      },
      "execution_count": null,
      "outputs": []
    },
    {
      "cell_type": "code",
      "source": [
        "# --- DistilBERT Model Setup ---\n",
        "model_name = \"distilbert-base-uncased\"\n",
        "tokenizer = AutoTokenizer.from_pretrained(model_name)"
      ],
      "metadata": {
        "id": "zoBNq_Gk3zVl"
      },
      "execution_count": null,
      "outputs": []
    },
    {
      "cell_type": "code",
      "source": [
        "# Tokenize the datasets\n",
        "def tokenize_data(texts, labels, max_length=128):\n",
        "    encodings = tokenizer(\n",
        "        list(texts),\n",
        "        truncation=True,\n",
        "        padding=True,\n",
        "        max_length=max_length,\n",
        "        return_tensors=\"pt\"\n",
        "    )\n",
        "    return {\n",
        "        'input_ids': encodings['input_ids'],\n",
        "        'attention_mask': encodings['attention_mask'],\n",
        "        'labels': torch.tensor(labels.values if hasattr(labels, 'values') else labels)\n",
        "    }\n",
        "\n",
        "train_encodings = tokenize_data(X_train, y_train)\n",
        "test_encodings = tokenize_data(X_test, y_test)"
      ],
      "metadata": {
        "id": "MKSJgiXj3zZX"
      },
      "execution_count": null,
      "outputs": []
    },
    {
      "cell_type": "code",
      "source": [
        "# Create PyTorch datasets\n",
        "test_dataset = TensorDataset(\n",
        "    test_encodings['input_ids'],\n",
        "    test_encodings['attention_mask'],\n",
        "    test_encodings['labels'])\n",
        "train_dataset = TensorDataset(\n",
        "    train_encodings['input_ids'],\n",
        "    train_encodings['attention_mask'],\n",
        "    train_encodings['labels'])"
      ],
      "metadata": {
        "id": "4ToZO4xC3zb9"
      },
      "execution_count": null,
      "outputs": []
    },
    {
      "cell_type": "code",
      "source": [
        "# Create DataLoaders\n",
        "batch_size = 16\n",
        "train_loader = DataLoader(train_dataset, batch_size=batch_size, shuffle=True)\n",
        "test_loader = DataLoader(test_dataset, batch_size=batch_size, shuffle=False)"
      ],
      "metadata": {
        "id": "OSpGVCBo53Md"
      },
      "execution_count": null,
      "outputs": []
    },
    {
      "cell_type": "code",
      "source": [
        "# Load pre-trained DistilBERT\n",
        "device = torch.device('cuda' if torch.cuda.is_available() else 'cpu')\n",
        "print(f\"\\nUsing device: {device}\")\n",
        "\n",
        "model = AutoModelForSequenceClassification.from_pretrained(\n",
        "    model_name,\n",
        "    num_labels=num_classes,\n",
        "    id2label={i: label for i, label in enumerate(label_encoder.classes_)},\n",
        "    label2id={label: i for i, label in enumerate(label_encoder.classes_)}\n",
        ").to(device)"
      ],
      "metadata": {
        "colab": {
          "base_uri": "https://localhost:8080/"
        },
        "id": "aPk7SGW_6Jfj",
        "outputId": "94af883e-5aa0-4a56-a9d2-8fe1268cfd89"
      },
      "execution_count": null,
      "outputs": [
        {
          "output_type": "stream",
          "name": "stderr",
          "text": [
            "Some weights of DistilBertForSequenceClassification were not initialized from the model checkpoint at distilbert-base-uncased and are newly initialized: ['classifier.bias', 'classifier.weight', 'pre_classifier.bias', 'pre_classifier.weight']\n",
            "You should probably TRAIN this model on a down-stream task to be able to use it for predictions and inference.\n"
          ]
        },
        {
          "output_type": "stream",
          "name": "stdout",
          "text": [
            "\n",
            "Using device: cpu\n"
          ]
        }
      ]
    },
    {
      "cell_type": "code",
      "source": [
        "# Training setup\n",
        "optimizer = AdamW(model.parameters(), lr=2e-5, weight_decay=0.01)\n",
        "\n",
        "# Training loop with progress tracking\n",
        "print(\"\\n--- Training DistilBERT ---\")\n",
        "model.train()\n",
        "for epoch in range(3):\n",
        "    total_loss = 0\n",
        "    correct_predictions = 0\n",
        "    total_predictions = 0\n",
        "\n",
        "    for batch_idx, (input_ids, attention_mask, labels) in enumerate(train_loader):\n",
        "        optimizer.zero_grad()\n",
        "\n",
        "        input_ids = input_ids.to(device)\n",
        "        attention_mask = attention_mask.to(device)\n",
        "        labels = labels.to(device)\n",
        "\n",
        "        outputs = model(input_ids, attention_mask=attention_mask, labels=labels)\n",
        "        loss = outputs.loss\n",
        "        total_loss += loss.item()\n",
        "\n",
        "        # Calculate accuracy\n",
        "        logits = outputs.logits\n",
        "        predictions = torch.argmax(logits, dim=1)\n",
        "        correct_predictions += (predictions == labels).sum().item()\n",
        "        total_predictions += labels.size(0)\n",
        "\n",
        "        loss.backward()\n",
        "        torch.nn.utils.clip_grad_norm_(model.parameters(), max_norm=1.0)\n",
        "        optimizer.step()\n",
        "\n",
        "        if batch_idx % 10 == 0:\n",
        "            accuracy = correct_predictions / total_predictions if total_predictions > 0 else 0\n",
        "            print(f'Epoch {epoch+1}, Batch {batch_idx}, Loss: {loss.item():.4f}, Acc: {accuracy:.3f}')\n",
        "\n",
        "    avg_loss = total_loss / len(train_loader)\n",
        "    epoch_accuracy = correct_predictions / total_predictions\n",
        "    print(f'Epoch {epoch+1} completed. Avg Loss: {avg_loss:.4f}, Acc: {epoch_accuracy:.3f}')"
      ],
      "metadata": {
        "colab": {
          "base_uri": "https://localhost:8080/"
        },
        "id": "Qee19xq26k-q",
        "outputId": "64d9020a-d876-4c39-ff35-ef84500c7a5d"
      },
      "execution_count": null,
      "outputs": [
        {
          "output_type": "stream",
          "name": "stdout",
          "text": [
            "\n",
            "--- Training DistilBERT ---\n",
            "Epoch 1, Batch 0, Loss: 1.7966, Acc: 0.125\n",
            "Epoch 1, Batch 10, Loss: 1.6535, Acc: 0.284\n",
            "Epoch 1, Batch 20, Loss: 1.6485, Acc: 0.321\n",
            "Epoch 1, Batch 30, Loss: 1.4768, Acc: 0.323\n",
            "Epoch 1, Batch 40, Loss: 1.6052, Acc: 0.341\n",
            "Epoch 1, Batch 50, Loss: 1.5238, Acc: 0.350\n",
            "Epoch 1, Batch 60, Loss: 1.3729, Acc: 0.368\n",
            "Epoch 1, Batch 70, Loss: 1.3365, Acc: 0.386\n",
            "Epoch 1, Batch 80, Loss: 1.5053, Acc: 0.401\n",
            "Epoch 1 completed. Avg Loss: 1.5236, Acc: 0.415\n",
            "Epoch 2, Batch 0, Loss: 1.3377, Acc: 0.562\n",
            "Epoch 2, Batch 10, Loss: 0.8489, Acc: 0.608\n",
            "Epoch 2, Batch 20, Loss: 1.2445, Acc: 0.598\n",
            "Epoch 2, Batch 30, Loss: 0.8974, Acc: 0.625\n",
            "Epoch 2, Batch 40, Loss: 0.6304, Acc: 0.651\n",
            "Epoch 2, Batch 50, Loss: 1.0132, Acc: 0.653\n",
            "Epoch 2, Batch 60, Loss: 1.0526, Acc: 0.654\n",
            "Epoch 2, Batch 70, Loss: 1.1269, Acc: 0.667\n",
            "Epoch 2, Batch 80, Loss: 0.9603, Acc: 0.679\n",
            "Epoch 2 completed. Avg Loss: 0.9508, Acc: 0.689\n",
            "Epoch 3, Batch 0, Loss: 0.7075, Acc: 0.875\n",
            "Epoch 3, Batch 10, Loss: 0.6540, Acc: 0.812\n",
            "Epoch 3, Batch 20, Loss: 0.5599, Acc: 0.801\n",
            "Epoch 3, Batch 30, Loss: 0.6390, Acc: 0.817\n",
            "Epoch 3, Batch 40, Loss: 0.5551, Acc: 0.820\n",
            "Epoch 3, Batch 50, Loss: 0.6500, Acc: 0.831\n",
            "Epoch 3, Batch 60, Loss: 0.6559, Acc: 0.833\n",
            "Epoch 3, Batch 70, Loss: 0.4999, Acc: 0.831\n",
            "Epoch 3, Batch 80, Loss: 0.4058, Acc: 0.836\n",
            "Epoch 3 completed. Avg Loss: 0.5308, Acc: 0.838\n"
          ]
        }
      ]
    },
    {
      "cell_type": "code",
      "source": [
        "# --- Evaluation ---\n",
        "print(\"\\n--- Evaluating on Test Set ---\")\n",
        "model.eval()\n",
        "all_predictions = []\n",
        "all_labels = []\n",
        "\n",
        "with torch.no_grad():\n",
        "    for input_ids, attention_mask, labels in test_loader:\n",
        "        input_ids = input_ids.to(device)\n",
        "        attention_mask = attention_mask.to(device)\n",
        "\n",
        "        outputs = model(input_ids, attention_mask=attention_mask)\n",
        "        predictions = torch.argmax(outputs.logits, dim=1)\n",
        "\n",
        "        all_predictions.extend(predictions.cpu().numpy())\n",
        "        all_labels.extend(labels.numpy())\n",
        "\n",
        "print(\"Classification Report:\")\n",
        "print(classification_report(all_labels, all_predictions, target_names=label_encoder.classes_))"
      ],
      "metadata": {
        "colab": {
          "base_uri": "https://localhost:8080/"
        },
        "id": "ZmCuESED6_iR",
        "outputId": "a4f07a9d-39ad-400c-a1d9-dd5470c12339"
      },
      "execution_count": null,
      "outputs": [
        {
          "output_type": "stream",
          "name": "stdout",
          "text": [
            "\n",
            "--- Evaluating on Test Set ---\n",
            "Classification Report:\n",
            "              precision    recall  f1-score   support\n",
            "\n",
            "       anger       0.87      0.73      0.79        82\n",
            "        fear       0.67      0.88      0.76        67\n",
            "         joy       0.92      0.94      0.93       209\n",
            "        love       0.72      0.65      0.68        48\n",
            "     sadness       0.88      0.93      0.90       174\n",
            "    surprise       1.00      0.05      0.10        20\n",
            "\n",
            "    accuracy                           0.85       600\n",
            "   macro avg       0.84      0.70      0.69       600\n",
            "weighted avg       0.86      0.85      0.84       600\n",
            "\n"
          ]
        }
      ]
    },
    {
      "cell_type": "code",
      "source": [
        "# Confusion Matrix\n",
        "cm = confusion_matrix(all_labels, all_predictions)\n",
        "plt.figure(figsize=(10, 8))\n",
        "sns.heatmap(cm, annot=True, fmt='d', cmap='Blues',\n",
        "            xticklabels=label_encoder.classes_,\n",
        "            yticklabels=label_encoder.classes_)\n",
        "plt.title('Confusion Matrix - DistilBERT')\n",
        "plt.ylabel('True Label')\n",
        "plt.xlabel('Predicted Label')\n",
        "plt.xticks(rotation=45)\n",
        "plt.yticks(rotation=0)\n",
        "plt.tight_layout()\n",
        "plt.show()"
      ],
      "metadata": {
        "colab": {
          "base_uri": "https://localhost:8080/",
          "height": 807
        },
        "id": "qS48_BYhYb0U",
        "outputId": "00d7e08d-3ac6-45a4-cce4-7130a3b1e3fa"
      },
      "execution_count": null,
      "outputs": [
        {
          "output_type": "display_data",
          "data": {
            "text/plain": [
              "<Figure size 1000x800 with 2 Axes>"
            ],
            "image/png": "[encoded data removed]"
          },
          "metadata": {}
        }
      ]
    },
    {
      "cell_type": "code",
      "source": [
        "# --- Prediction Function ---\n",
        "def predict_emotion(text):\n",
        "    \"\"\"\n",
        "    Predict emotion from raw text using the fine-tuned DistilBERT model.\n",
        "    Returns the predicted emotion and a confidence score.\n",
        "    \"\"\"\n",
        "    model.eval()\n",
        "\n",
        "    # tokenize the input text\n",
        "    inputs = tokenizer(text, return_tensors=\"pt\", truncation=True, padding=True, max_length=128)\n",
        "\n",
        "    # Move to device and get prediction\n",
        "    input_ids = inputs['input_ids'].to(device)\n",
        "    attention_mask = inputs['attention_mask'].to(device)\n",
        "\n",
        "    with torch.no_grad():\n",
        "        outputs = model(input_ids, attention_mask=attention_mask)\n",
        "        probabilities = torch.softmax(outputs.logits, dim=-1)\n",
        "        confidence, predicted_class_id = torch.max(probabilities, dim=-1)\n",
        "\n",
        "    confidence = confidence.item()\n",
        "    predicted_class_id = predicted_class_id.item()\n",
        "    predicted_emotion = label_encoder.inverse_transform([predicted_class_id])[0]\n",
        "\n",
        "    # Adaptive confidence threshold\n",
        "    if confidence < 0.3:\n",
        "        # Get top-2 predictions for mixed emotions\n",
        "        top_probs, top_indices = torch.topk(probabilities[0], 2)\n",
        "        top_emotions = label_encoder.inverse_transform(top_indices.cpu().numpy())\n",
        "        predicted_emotion = f\"Unclear/Mixed ({top_emotions[0]}: {top_probs[0].item():.2f}, {top_emotions[1]}: {top_probs[1].item():.2f})\"\n",
        "\n",
        "    return predicted_emotion, confidence"
      ],
      "metadata": {
        "id": "HAIUTm0W9GmE"
      },
      "execution_count": null,
      "outputs": []
    },
    {
      "cell_type": "code",
      "source": [
        "# --- CLI Interface ---\n",
        "print(\"\\n\" + \"=\"*50)\n",
        "print(\"Text Emotion Recognition CLI (DistilBERT)\")\n",
        "print(\"Type 'quit' to exit the program.\")\n",
        "print(\"=\"*50)\n",
        "\n",
        "print(\"\\n---Welcome---\")\n",
        "while True:\n",
        "    user_input = input(\"\\nPlease enter a sentence to analyze its emotion: \").strip()\n",
        "\n",
        "    if user_input.lower() == 'quit':\n",
        "        print(\"Goodbye!\")\n",
        "        break\n",
        "    if not user_input:\n",
        "        continue\n",
        "\n",
        "    emotion, confidence = predict_emotion(user_input)\n",
        "    print(f\"\\nPredicted Emotion: {emotion}\")\n",
        "    print(f\"Confidence: {confidence:.4f}\")"
      ],
      "metadata": {
        "colab": {
          "base_uri": "https://localhost:8080/"
        },
        "id": "C2CFFXjc9Lwm",
        "outputId": "7419d2cc-26ea-4a5c-fbd0-a6f0c80fc1db"
      },
      "execution_count": null,
      "outputs": [
        {
          "output_type": "stream",
          "name": "stdout",
          "text": [
            "\n",
            "==================================================\n",
            "Text Emotion Recognition CLI (DistilBERT)\n",
            "Type 'quit' to exit the program.\n",
            "==================================================\n",
            "\n",
            "---Welcome---\n",
            "\n",
            "Please enter a sentence to analyze its emotion: i am so happy today\n",
            "\n",
            "Predicted Emotion: joy\n",
            "Confidence: 0.9339\n",
            "\n",
            "Please enter a sentence to analyze its emotion: I am sad because i failed in exam\n",
            "\n",
            "Predicted Emotion: sadness\n",
            "Confidence: 0.8708\n",
            "\n",
            "Please enter a sentence to analyze its emotion: I love this food very much\n",
            "\n",
            "Predicted Emotion: love\n",
            "Confidence: 0.4773\n",
            "\n",
            "Please enter a sentence to analyze its emotion: Hurrah! we won the match\n",
            "\n",
            "Predicted Emotion: joy\n",
            "Confidence: 0.7887\n",
            "\n",
            "Please enter a sentence to analyze its emotion: i surprise to see you here\n",
            "\n",
            "Predicted Emotion: joy\n",
            "Confidence: 0.7358\n",
            "\n",
            "Please enter a sentence to analyze its emotion: I scared from darkness\n",
            "\n",
            "Predicted Emotion: fear\n",
            "Confidence: 0.8266\n",
            "\n",
            "Please enter a sentence to analyze its emotion: quit\n",
            "Goodbye!\n"
          ]
        }
      ]
    }
  ]
}